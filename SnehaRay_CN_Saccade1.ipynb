{
 "cells": [
  {
   "cell_type": "code",
   "execution_count": 1,
   "metadata": {},
   "outputs": [],
   "source": [
    "#Assignment: To analyse the Saccade data\n",
    "# 1. Load the data\n",
    "# 2. Cut the data between 21 and 32 seconds.\n",
    "# 3. Filter the data with different filters and compare the results\n",
    "# 4. Do a 2D plot of the data\n",
    "# 5. Do a plot that represents the duration of each saccade as a function of their amplitude (within 37 and 48 seconds).\n",
    "#\t\tThis means that you will have to detect the saccades! Manual or using a script\n",
    "# This code is also avalable in my Github: https://github.com/SnehaRayPanda/Saccade_EyeTracking_Signal_analysis "
   ]
  },
  {
   "cell_type": "code",
   "execution_count": 1,
   "metadata": {},
   "outputs": [],
   "source": [
    "import numpy as np\n",
    "import matplotlib.pyplot as plt\n",
    "import pickle as pck\n",
    "import pandas as pd\n",
    "import mpld3\n",
    "mpld3.enable_notebook()"
   ]
  },
  {
   "cell_type": "code",
   "execution_count": 2,
   "metadata": {},
   "outputs": [],
   "source": [
    "# provide the data folder path\n",
    "fl = \"C:\\\\Users\\\\bkbme\\\\Desktop\\\\Sneha_program\\\\CompNeuro\\\\data_exam.pck\"\n",
    "\n",
    "# load the data in a variable called 'A' using 'pck.load'\n",
    "with open(fl, 'rb') as f:\n",
    "    A = pck.load(f) "
   ]
  },
  {
   "cell_type": "code",
   "execution_count": 3,
   "metadata": {},
   "outputs": [
    {
     "data": {
      "text/plain": [
       "{'trial0': {'time': array([[-6.139000e-02, -6.039000e-02, -5.939000e-02, ...,  8.442053e+01,\n",
       "           8.442153e+01,  8.442253e+01]]),\n",
       "  'signals': array([[511.8999939 , 511.8999939 , 511.8999939 , ..., 543.79998779,\n",
       "          543.79998779, 544.        ],\n",
       "         [892.20001221, 892.20001221, 892.40002441, ..., 914.5       ,\n",
       "          914.40002441, 914.29998779],\n",
       "         [458.29998779, 458.29998779, 458.        , ..., 486.29998779,\n",
       "          486.29998779, 486.29998779],\n",
       "         ...,\n",
       "         [         nan,          nan,          nan, ...,          nan,\n",
       "                   nan,          nan],\n",
       "         [         nan,          nan,          nan, ...,          nan,\n",
       "                   nan,          nan],\n",
       "         [         nan,          nan,          nan, ...,          nan,\n",
       "                   nan,          nan]]),\n",
       "  'signalsName': ['0:time',\n",
       "   '0:0:filt:none:l_x',\n",
       "   '1:0:filt:none:l_y',\n",
       "   '2:0:filt:none:r_x',\n",
       "   '3:0:filt:none:r_y',\n",
       "   '4:0:filt:none:px',\n",
       "   '5:0:filt:none:py',\n",
       "   '6:0:filt:none:Velo:l_x',\n",
       "   '7:0:filt:none:Velo:l_y',\n",
       "   '8:0:filt:none:Velo:r_x',\n",
       "   '9:0:filt:none:Velo:r_y',\n",
       "   '10:0:filt:none:Velo:px',\n",
       "   '11:0:filt:none:Velo:py',\n",
       "   '12:0:filt:none:Acc:l_x',\n",
       "   '13:0:filt:none:Acc:l_y',\n",
       "   '14:0:filt:none:Acc:r_x',\n",
       "   '15:0:filt:none:Acc:r_y',\n",
       "   '16:0:filt:none:Acc:px',\n",
       "   '17:0:filt:none:Acc:py',\n",
       "   '18:0:filt:none:Cal:l_x',\n",
       "   '19:0:filt:none:Cal:l_y',\n",
       "   '20:0:filt:none:Cal:r_x',\n",
       "   '21:0:filt:none:Cal:r_y',\n",
       "   '22:0:filt:none:Cal:px',\n",
       "   '23:0:filt:none:Cal:py',\n",
       "   '24:0:filt:none:VeloCal:l_x',\n",
       "   '25:0:filt:none:VeloCal:l_y',\n",
       "   '26:0:filt:none:VeloCal:r_x',\n",
       "   '27:0:filt:none:VeloCal:r_y',\n",
       "   '28:0:filt:none:VeloCal:px',\n",
       "   '29:0:filt:none:VeloCal:py',\n",
       "   '30:0:filt:none:AccCal:l_x',\n",
       "   '31:0:filt:none:AccCal:l_y',\n",
       "   '32:0:filt:none:AccCal:r_x',\n",
       "   '33:0:filt:none:AccCal:r_y',\n",
       "   '34:0:filt:none:AccCal:px',\n",
       "   '35:0:filt:none:AccCal:py'],\n",
       "  'saccades': {'Signal0': [[[], []]],\n",
       "   'Signal1': [[[], []]],\n",
       "   'Signal2': [[[], []]],\n",
       "   'Signal3': [[[], []]],\n",
       "   'Signal4': [[[], []]],\n",
       "   'Signal5': [[[], []]]},\n",
       "  'tar': [[array([], dtype=float64),\n",
       "    array([], dtype=float64),\n",
       "    array([], dtype=float64),\n",
       "    array([], dtype=float64)]]}}"
      ]
     },
     "execution_count": 3,
     "metadata": {},
     "output_type": "execute_result"
    }
   ],
   "source": [
    "# View A to know what are the data...\n",
    "A"
   ]
  },
  {
   "cell_type": "code",
   "execution_count": 4,
   "metadata": {},
   "outputs": [],
   "source": [
    "# load the Saccade data signals and other information (i.e., time and target) in different variables from A\n",
    "time = A['trial0'] ['time']\n",
    "signals = A['trial0'] ['signals'] \n",
    "target = A['trial0'] ['tar'] [0] [1] "
   ]
  },
  {
   "cell_type": "code",
   "execution_count": 8,
   "metadata": {},
   "outputs": [
    {
     "data": {
      "text/plain": [
       "[<matplotlib.lines.Line2D at 0x1f12742fa60>]"
      ]
     },
     "execution_count": 8,
     "metadata": {},
     "output_type": "execute_result"
    },
    {
     "data": {
      "image/png": "[encoded data removed]",
      "text/plain": [
       "<Figure size 432x288 with 1 Axes>"
      ]
     },
     "metadata": {
      "needs_background": "light"
     },
     "output_type": "display_data"
    }
   ],
   "source": [
    "%matplotlib inline\n",
    "# To plot 21 to 32 sec data, 1st from the time variable, look what is the index for 21sec and 32 sec\n",
    "# From time, 21sec (19470 time point) to 32sec (30012) signal is 12 sec data, which contain 10542 data points for 12 sec (i.e., 32-21) \n",
    "# from 'signalName', l_x and l_y signal contain in '['trial0']['signals'][0]' and ['trial0']['signals'][1]\n",
    "# plot the signal from 21 to 32 sec l_x\n",
    "plt.plot(time[0,19470:30012], A['trial0']['signals'][0,19470:30012],'r')"
   ]
  },
  {
   "cell_type": "code",
   "execution_count": null,
   "metadata": {},
   "outputs": [],
   "source": [
    "plt.plot(time[0,19470:30012],A['trial0']['signals'][0,19470:30012])"
   ]
  },
  {
   "cell_type": "code",
   "execution_count": 9,
   "metadata": {},
   "outputs": [
    {
     "data": {
      "text/plain": [
       "[<matplotlib.lines.Line2D at 0x1f1274934c0>]"
      ]
     },
     "execution_count": 9,
     "metadata": {},
     "output_type": "execute_result"
    },
    {
     "data": {
      "image/png": "[encoded data removed]",
      "text/plain": [
       "<Figure size 432x288 with 1 Axes>"
      ]
     },
     "metadata": {
      "needs_background": "light"
     },
     "output_type": "display_data"
    }
   ],
   "source": [
    "# plot the signal from 21 to 32 sec l_y\n",
    "plt.plot(time[0,19470:30012], A['trial0']['signals'][1,19470:30012],'b')"
   ]
  },
  {
   "cell_type": "code",
   "execution_count": 43,
   "metadata": {},
   "outputs": [],
   "source": [
    "from scipy.signal import firwin, lfilter\n",
    "# desin a FIR filter using the window method.It's a finite impulse response filter, which have linear phase\n",
    "# Low pass filter designing\n",
    "ntaps = 11 \n",
    "cutoff = 0.01 #0.05 \n",
    "#cutoff_hp = 20 #0.05 \n",
    "flt_mdl = firwin(ntaps, cutoff)"
   ]
  },
  {
   "cell_type": "code",
   "execution_count": 41,
   "metadata": {},
   "outputs": [],
   "source": [
    "# to use filter, 1st store the cut sinal in a variable\n",
    "l_x_signal = signals[0,19470:30012]\n",
    "l_y_signal = signals[1,19470:30012]"
   ]
  },
  {
   "cell_type": "code",
   "execution_count": 42,
   "metadata": {},
   "outputs": [
    {
     "data": {
      "text/plain": [
       "[<matplotlib.lines.Line2D at 0x1f12edfeac0>]"
      ]
     },
     "execution_count": 42,
     "metadata": {},
     "output_type": "execute_result"
    }
   ],
   "source": [
    "#plot l_x_signal\n",
    "plt.plot(time[0,19470:30012], l_x_signal,'r')"
   ]
  },
  {
   "cell_type": "code",
   "execution_count": 27,
   "metadata": {},
   "outputs": [
    {
     "data": {
      "text/plain": [
       "[<matplotlib.lines.Line2D at 0x1f12eedeeb0>]"
      ]
     },
     "execution_count": 27,
     "metadata": {},
     "output_type": "execute_result"
    }
   ],
   "source": [
    "#plot l_y_signal\n",
    "plt.plot(time[0,19470:30012], l_y_signal, 'b')"
   ]
  },
  {
   "cell_type": "code",
   "execution_count": 44,
   "metadata": {},
   "outputs": [
    {
     "data": {
      "text/plain": [
       "[<matplotlib.lines.Line2D at 0x1f12f166f40>]"
      ]
     },
     "execution_count": 44,
     "metadata": {},
     "output_type": "execute_result"
    }
   ],
   "source": [
    "# use the firwin filter in the org signal (i.e.l_x_signal) and plot the filtered signal\n",
    "l_x_filtered = lfilter(flt_mdl, 1.0, l_x_signal)\n",
    "plt.plot(time[0,19470:30012],l_x_filtered, 'y')"
   ]
  },
  {
   "cell_type": "code",
   "execution_count": 45,
   "metadata": {},
   "outputs": [
    {
     "data": {
      "text/plain": [
       "[<matplotlib.lines.Line2D at 0x1f14ad32ca0>]"
      ]
     },
     "execution_count": 45,
     "metadata": {},
     "output_type": "execute_result"
    }
   ],
   "source": [
    "# use the firwin filter in the org signal (i.e.l_x_signal) and plot both original and filtered signal\n",
    "l_x_filtered= lfilter(flt_mdl, 1.0,l_x_signal) \n",
    "# use 'matplotlib qt' to open the plot in an intractive mode for comparisions\n",
    "%matplotlib qt\n",
    "\n",
    "plt.plot(time[0,19470:30012], l_x_signal, 'r')\n",
    "\n",
    "plt.plot(time[0,19470:30012], l_x_filtered, 'y')\n",
    "# The results plot will pop-up in a intractive mode. Please zoom the signal to visualize both original and filtered signals"
   ]
  },
  {
   "cell_type": "code",
   "execution_count": 59,
   "metadata": {},
   "outputs": [
    {
     "data": {
      "text/plain": [
       "[<matplotlib.lines.Line2D at 0x1f14b7a9100>]"
      ]
     },
     "execution_count": 59,
     "metadata": {},
     "output_type": "execute_result"
    }
   ],
   "source": [
    "# use the firwin filter in the l_y_signal and plot both original and filtered signal\n",
    "l_y_filtered= lfilter(flt_mdl, 1.0,l_y_signal) \n",
    "\n",
    "plt.plot(time[0,19470:30012], l_y_signal, 'b')\n",
    "\n",
    "plt.plot(time[0,19470:30012], l_y_filtered, 'g')\n",
    "# The results plot will pop-up in a intractive mode. Please zoom the signal to visualize both original and filtered signals"
   ]
  },
  {
   "cell_type": "code",
   "execution_count": 46,
   "metadata": {},
   "outputs": [],
   "source": [
    "# use another filter (i.e., medfilt) to compare firwin filter\n",
    "from scipy.signal import medfilt"
   ]
  },
  {
   "cell_type": "code",
   "execution_count": 50,
   "metadata": {},
   "outputs": [
    {
     "data": {
      "text/plain": [
       "[<matplotlib.lines.Line2D at 0x1f14af0eca0>]"
      ]
     },
     "execution_count": 50,
     "metadata": {},
     "output_type": "execute_result"
    }
   ],
   "source": [
    "# use medfilt in the org signal (i.e.l_x_signal) and plot both original and filtered signal\n",
    "l_x_filtered_med = medfilt(l_x_signal, 33)\n",
    "\n",
    "plt.plot(time[0,19470:30012],l_x_signal, 'r')\n",
    "\n",
    "plt.plot(time[0,19470:30012],l_x_filtered_med, 'g')"
   ]
  },
  {
   "cell_type": "code",
   "execution_count": 51,
   "metadata": {},
   "outputs": [
    {
     "data": {
      "text/plain": [
       "[<matplotlib.lines.Line2D at 0x1f14af76790>]"
      ]
     },
     "execution_count": 51,
     "metadata": {},
     "output_type": "execute_result"
    }
   ],
   "source": [
    "# use medfilt in l_y_signal and plot both original and filtered signal\n",
    "l_y_filtered_med = medfilt(l_y_signal, 101)\n",
    "plt.plot(time[0,19470:30012],l_y_signal, 'b')\n",
    "plt.plot(time[0,19470:30012],l_y_filtered_med, 'm')"
   ]
  },
  {
   "cell_type": "code",
   "execution_count": 52,
   "metadata": {},
   "outputs": [],
   "source": [
    "# use another filter (i.e., savgol_filter) to compare firwin and medfilt filter\n",
    "from scipy.signal import savgol_filter"
   ]
  },
  {
   "cell_type": "code",
   "execution_count": 53,
   "metadata": {},
   "outputs": [
    {
     "data": {
      "text/plain": [
       "[<matplotlib.lines.Line2D at 0x1f14b265670>]"
      ]
     },
     "execution_count": 53,
     "metadata": {},
     "output_type": "execute_result"
    }
   ],
   "source": [
    "# use savgol_filter in the org signal (i.e.l_x_signal) and plot both original and filtered signal\n",
    "l_x_filtered_savgol = savgol_filter(l_x_signal, 55, 6,)\n",
    "\n",
    "plt.plot(time[0,19470:30012],l_x_signal, 'r')\n",
    "\n",
    "plt.plot(time[0,19470:30012],l_x_filtered_savgol, 'c')"
   ]
  },
  {
   "cell_type": "code",
   "execution_count": 57,
   "metadata": {},
   "outputs": [
    {
     "data": {
      "text/plain": [
       "[<matplotlib.lines.Line2D at 0x1f14b57c970>]"
      ]
     },
     "execution_count": 57,
     "metadata": {},
     "output_type": "execute_result"
    }
   ],
   "source": [
    "# use vert_signal in l_y_signal and plot both original and filtered signal\n",
    "l_y_filtered_savgol = savgol_filter(l_y_signal, 55, 6,)\n",
    "plt.plot(time[0,19470:30012],l_y_signal, 'b')\n",
    "plt.plot(time[0,19470:30012],l_y_filtered_savgol, 'c')"
   ]
  },
  {
   "cell_type": "code",
   "execution_count": 55,
   "metadata": {},
   "outputs": [
    {
     "data": {
      "text/plain": [
       "[<matplotlib.lines.Line2D at 0x1f14b4c2190>]"
      ]
     },
     "execution_count": 55,
     "metadata": {},
     "output_type": "execute_result"
    }
   ],
   "source": [
    "# Plot original (l_x_signal) with all the filtered signal that used in three way to compare firwin, medfilt and savgol filters\n",
    "plt.plot(time[0,19470:30012], l_x_signal, 'r')\n",
    "plt.plot(time[0,19470:30012], l_x_filtered, 'g')\n",
    "plt.plot(time[0,19470:30012], l_x_filtered_med, 'k')\n",
    "plt.plot(time[0,19470:30012], l_x_filtered_savgol, 'y')"
   ]
  },
  {
   "cell_type": "code",
   "execution_count": 60,
   "metadata": {},
   "outputs": [
    {
     "data": {
      "text/plain": [
       "[<matplotlib.lines.Line2D at 0x1f14d297610>]"
      ]
     },
     "execution_count": 60,
     "metadata": {},
     "output_type": "execute_result"
    }
   ],
   "source": [
    "# Plot original (l_y_signal) with all the filtered signal that used in three way to compare firwin, medfilt and savgol filters\n",
    "plt.axis([21,32,910,960])\n",
    "plt.plot(time[0,19470:30012],l_y_signal, 'b')\n",
    "plt.plot(time[0,19470:30012],l_y_filtered, 'r')\n",
    "plt.plot(time[0,19470:30012],l_y_filtered_med, 'k')\n",
    "plt.plot(time[0,19470:30012],l_y_filtered_savgol, 'c')"
   ]
  },
  {
   "cell_type": "code",
   "execution_count": 23,
   "metadata": {},
   "outputs": [],
   "source": [
    "err_base= l_x_signal\n",
    "err_fir= l_x_signal - l_x_filtered\n",
    "err_med= l_x_signal - l_x_filtered_med\n",
    "err_savgol= l_x_signal - l_x_filtered_savgol"
   ]
  },
  {
   "cell_type": "code",
   "execution_count": 24,
   "metadata": {},
   "outputs": [],
   "source": [
    "errBins = np.linspace(-0.9,0.9,51) \n",
    "\n",
    "\n",
    "_=plt.hist(err_med, errBins, color='r')\n",
    "_=plt.hist(err_savgol, errBins, color='g')\n",
    "_=plt.hist(err_fir, errBins, color='c')"
   ]
  },
  {
   "cell_type": "code",
   "execution_count": 25,
   "metadata": {},
   "outputs": [
    {
     "name": "stdout",
     "output_type": "stream",
     "text": [
      "0.34765582482607366\n",
      "0.03154108361939476\n",
      "-0.00011762158697150399\n"
     ]
    }
   ],
   "source": [
    "print(np.mean(err_fir)) \n",
    "print(np.mean(err_med)) \n",
    "print(np.mean(err_savgol)) "
   ]
  },
  {
   "cell_type": "code",
   "execution_count": 26,
   "metadata": {},
   "outputs": [
    {
     "name": "stdout",
     "output_type": "stream",
     "text": [
      "14.383679930196598\n",
      "0.9617783155510331\n",
      "0.44322606221110694\n"
     ]
    }
   ],
   "source": [
    "print(np.std(err_fir))\n",
    "print(np.std(err_med)) \n",
    "print(np.std(err_savgol))"
   ]
  },
  {
   "cell_type": "code",
   "execution_count": 39,
   "metadata": {},
   "outputs": [],
   "source": [
    "# Plot both the best filtered signals in 2D plot separetly \n",
    "plt.plot(time[0,19470:30012],l_x_filtered_med, 'r')\n",
    "plt.plot(time[0,19470:30012],l_y_filtered_med, 'c')\n",
    "plt.show()"
   ]
  },
  {
   "cell_type": "code",
   "execution_count": 71,
   "metadata": {},
   "outputs": [],
   "source": [
    "# Plot both the best filtered signals in one figure\n",
    "%matplotlib qt\n",
    "fig, ax1 = plt.subplots()\n",
    "color = 'tab:red'\n",
    "ax1.set_xlabel('time (s)', size=14)\n",
    "ax1.set_ylabel('Amplitude of left eye horizontal movement', color=color, size=10)\n",
    "ax1.plot(time[0,19470:30012], l_x_filtered_med, color=color, label='horizontal movement')\n",
    "ax1.tick_params(axis='y', labelcolor=color)\n",
    "\n",
    "ax2 = ax1.twinx()  # instantiate a second axes that shares the same x-axis\n",
    "color = 'tab:blue'\n",
    "ax2.set_ylabel('Amplitude of left eye vertical movement', color=color, size=10)  # we already handled the x-label with ax1\n",
    "ax2.plot(time[0,19470:30012],l_y_filtered_med, color=color, label='vertical movement')\n",
    "ax2.tick_params(axis='y', labelcolor=color)\n",
    "\n",
    "fig.tight_layout()  # otherwise the right y-label is slightly clipped\n",
    "plt.title('Saccade eye movement (left eye)', size=16)\n",
    "plt.show()"
   ]
  },
  {
   "cell_type": "code",
   "execution_count": 73,
   "metadata": {},
   "outputs": [],
   "source": [
    "# Plot eye movement in 2D plot using x and y direction eve movements\n",
    "plt.plot(l_x_filtered_med, l_y_filtered_med, 'r')\n",
    "plt.ylabel('horizontal eye movement')\n",
    "plt.xlabel('vertical eye movement')\n",
    "plt.title('Eye movement')\n",
    "plt.show()"
   ]
  },
  {
   "cell_type": "code",
   "execution_count": 78,
   "metadata": {},
   "outputs": [
    {
     "data": {
      "text/plain": [
       "[<matplotlib.lines.Line2D at 0x1f10265b310>]"
      ]
     },
     "execution_count": 78,
     "metadata": {},
     "output_type": "execute_result"
    },
    {
     "data": {
      "image/png": "[encoded data removed]",
      "text/plain": [
       "<Figure size 432x288 with 1 Axes>"
      ]
     },
     "metadata": {
      "needs_background": "light"
     },
     "output_type": "display_data"
    }
   ],
   "source": [
    "#%% To plot the duration of each saccade as a function of their amplitude from 37 and 48 seconds left horizontal (l_x) eye movement.\n",
    "# first cut the data for 37 and 48 seconds (which is 34758 to 45244 time point) and you could use a filter (optional)\n",
    "from scipy.signal import medfilt\n",
    "data=A['trial0']['signals'][0,34758:45244]\n",
    "data_med_flt= medfilt(data, 33)\n",
    "#plt.plot(time[0,34758:45244], data_med_flt,'r')\n",
    "plt.plot(time[0,34758:45244], data,'r')"
   ]
  },
  {
   "cell_type": "code",
   "execution_count": 79,
   "metadata": {},
   "outputs": [
    {
     "data": {
      "text/plain": [
       "[<matplotlib.lines.Line2D at 0x1f1026accd0>]"
      ]
     },
     "execution_count": 79,
     "metadata": {},
     "output_type": "execute_result"
    },
    {
     "data": {
      "image/png": "[encoded data removed]",
      "text/plain": [
       "<Figure size 432x288 with 1 Axes>"
      ]
     },
     "metadata": {
      "needs_background": "light"
     },
     "output_type": "display_data"
    }
   ],
   "source": [
    "# compute the time points when it goes doun or up from a threshold (i.e, for down=700, for up=800 )\n",
    "# store the indicess for doun or up sacaddes\n",
    "# make a binary array (1= when up and down, otherwise zero) for saccade\n",
    "%matplotlib inline\n",
    "up = np.where(data>=800);\n",
    "down = np.where(data<=700);\n",
    "data1 = np.zeros(data.shape,dtype=float, order='C');\n",
    "data1[up] = 1\n",
    "data1[down] = 1\n",
    "plt.plot(data1,'r')"
   ]
  },
  {
   "cell_type": "code",
   "execution_count": 81,
   "metadata": {},
   "outputs": [
    {
     "data": {
      "text/plain": [
       "[<matplotlib.lines.Line2D at 0x1f102761370>]"
      ]
     },
     "execution_count": 81,
     "metadata": {},
     "output_type": "execute_result"
    },
    {
     "data": {
      "image/png": "[encoded data removed]",
      "text/plain": [
       "<Figure size 432x288 with 1 Axes>"
      ]
     },
     "metadata": {
      "needs_background": "light"
     },
     "output_type": "display_data"
    }
   ],
   "source": [
    "#%% do the differenciation(squred) to get pic for up/down saccards\n",
    "sacard_sift = np.diff(data1);\n",
    "sacard_sift=sacard_sift*sacard_sift\n",
    "plt.plot(sacard_sift)"
   ]
  },
  {
   "cell_type": "code",
   "execution_count": 92,
   "metadata": {},
   "outputs": [
    {
     "data": {
      "image/png": "[encoded data removed]",
      "text/plain": [
       "<Figure size 432x288 with 1 Axes>"
      ]
     },
     "metadata": {
      "needs_background": "light"
     },
     "output_type": "display_data"
    }
   ],
   "source": [
    "#%% compute the sacard duration from eac congugate pics and excluding 1 interval\n",
    "shift_index = np.where(sacard_sift==1);\n",
    "g = np.diff(shift_index,1)\n",
    "sacard_duration=[g[0][0], g[0][2], g[0][4], g[0][6]]\n",
    "#%% Plot each sacard duration using bar plot as 'duration of each saccade as a function of their amplitude'\n",
    "fig = plt.figure()\n",
    "ax = fig.add_axes([0,0,1,1])\n",
    "langs = ['39 sec', '42 sec', '44sec', '57sec']\n",
    "ax.bar(langs,sacard_duration)\n",
    "ax.set_ylabel('duration of Saccade (ms)', size=14)\n",
    "ax.set_xlabel('time os Saccade apearance', size=14)\n",
    "plt.title('Duration of each Saccade as a function of there Amplitude', size=14)\n",
    "plt.show()"
   ]
  }
 ],
 "metadata": {
  "kernelspec": {
   "display_name": "Python 3",
   "language": "python",
   "name": "python3"
  },
  "language_info": {
   "codemirror_mode": {
    "name": "ipython",
    "version": 3
   },
   "file_extension": ".py",
   "mimetype": "text/x-python",
   "name": "python",
   "nbconvert_exporter": "python",
   "pygments_lexer": "ipython3",
   "version": "3.8.8"
  }
 },
 "nbformat": 4,
 "nbformat_minor": 4
}
